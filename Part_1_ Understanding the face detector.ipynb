{
 "cells": [
  {
   "cell_type": "code",
   "execution_count": 1,
   "id": "6bf51e1f",
   "metadata": {},
   "outputs": [],
   "source": [
    "import numpy as np\n",
    "import cv2 "
   ]
  },
  {
   "cell_type": "code",
   "execution_count": 2,
   "id": "9c4b801a",
   "metadata": {},
   "outputs": [],
   "source": [
    "#loading the image\n",
    "img=cv2.imread('faces.jpg')\n",
    "cv2.imshow('Test image',img)\n",
    "cv2.waitKey(0)==ord('q')\n",
    "cv2.destroyAllWindows()"
   ]
  },
  {
   "cell_type": "code",
   "execution_count": 3,
   "id": "0de676ac",
   "metadata": {},
   "outputs": [],
   "source": [
    "#well load the classifier\n",
    "face_cascade=cv2.CascadeClassifier('./model/haarcascade_frontalface_default.xml')"
   ]
  },
  {
   "cell_type": "code",
   "execution_count": 6,
   "id": "c8f41ac2",
   "metadata": {},
   "outputs": [],
   "source": [
    "#the first step is to convert the image to grayscale\n",
    "gray_image=cv2.cvtColor(img,cv2.COLOR_BGR2GRAY)\n",
    "#second step is to apply the cascade classifier to the image\n",
    "#this will return objects and number of detections\n",
    "box,number_of_detections=face_cascade.detectMultiScale2(gray_image,)"
   ]
  },
  {
   "cell_type": "code",
   "execution_count": 7,
   "id": "d0a2c7c3",
   "metadata": {},
   "outputs": [
    {
     "data": {
      "text/plain": [
       "array([[321,  84, 385, 385],\n",
       "       [ 88,  75, 316, 316],\n",
       "       [697, 107, 248, 248],\n",
       "       [894, 573,  52,  52]])"
      ]
     },
     "execution_count": 7,
     "metadata": {},
     "output_type": "execute_result"
    }
   ],
   "source": [
    "box"
   ]
  },
  {
   "cell_type": "code",
   "execution_count": 8,
   "id": "37990186",
   "metadata": {},
   "outputs": [
    {
     "data": {
      "text/plain": [
       "array([35, 10, 37,  4])"
      ]
     },
     "execution_count": 8,
     "metadata": {},
     "output_type": "execute_result"
    }
   ],
   "source": [
    "number_of_detections"
   ]
  },
  {
   "cell_type": "markdown",
   "id": "4f641bd2",
   "metadata": {},
   "source": [
    "we didint set the minNumber of neighbours argument in the face_cascade, lets set it to 8"
   ]
  },
  {
   "cell_type": "code",
   "execution_count": 9,
   "id": "31d946fc",
   "metadata": {},
   "outputs": [],
   "source": [
    "#the first step is to convert the image to grayscale\n",
    "gray_image=cv2.cvtColor(img,cv2.COLOR_BGR2GRAY)\n",
    "#second step is to apply the cascade classifier to the image\n",
    "#this will return objects and number of detections\n",
    "box,number_of_detections=face_cascade.detectMultiScale2(gray_image,minNeighbors=8)"
   ]
  },
  {
   "cell_type": "code",
   "execution_count": 10,
   "id": "d9cabed5",
   "metadata": {},
   "outputs": [
    {
     "data": {
      "text/plain": [
       "array([[321,  84, 385, 385],\n",
       "       [ 88,  75, 316, 316],\n",
       "       [697, 107, 248, 248]])"
      ]
     },
     "execution_count": 10,
     "metadata": {},
     "output_type": "execute_result"
    }
   ],
   "source": [
    "box"
   ]
  },
  {
   "cell_type": "code",
   "execution_count": 11,
   "id": "864bacb6",
   "metadata": {},
   "outputs": [
    {
     "data": {
      "text/plain": [
       "array([35, 10, 37])"
      ]
     },
     "execution_count": 11,
     "metadata": {},
     "output_type": "execute_result"
    }
   ],
   "source": [
    "number_of_detections"
   ]
  },
  {
   "cell_type": "markdown",
   "id": "8b02eaf4",
   "metadata": {},
   "source": [
    "Expalantion: the box represents the bounding boxes, they are 3 in number, the first part represents the x ,second part represents y, 3rd is width and the 4th is height, more precisely this array represnts coordinates of the bounding box over the face detected."
   ]
  },
  {
   "cell_type": "code",
   "execution_count": null,
   "id": "6d95c293",
   "metadata": {},
   "outputs": [],
   "source": []
  }
 ],
 "metadata": {
  "kernelspec": {
   "display_name": "Python 3 (ipykernel)",
   "language": "python",
   "name": "python3"
  },
  "language_info": {
   "codemirror_mode": {
    "name": "ipython",
    "version": 3
   },
   "file_extension": ".py",
   "mimetype": "text/x-python",
   "name": "python",
   "nbconvert_exporter": "python",
   "pygments_lexer": "ipython3",
   "version": "3.9.12"
  }
 },
 "nbformat": 4,
 "nbformat_minor": 5
}
