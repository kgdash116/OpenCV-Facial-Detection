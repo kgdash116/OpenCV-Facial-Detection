{
 "cells": [
  {
   "cell_type": "code",
   "execution_count": 1,
   "id": "dfdc5d2e",
   "metadata": {},
   "outputs": [],
   "source": [
    "import numpy as np\n",
    "import cv2"
   ]
  },
  {
   "cell_type": "code",
   "execution_count": 7,
   "id": "a9acc032",
   "metadata": {},
   "outputs": [],
   "source": [
    "face_cascade=cv2.CascadeClassifier(\"./model/haarcascade_frontalface_default.xml\")"
   ]
  },
  {
   "cell_type": "code",
   "execution_count": 44,
   "id": "7f667376",
   "metadata": {},
   "outputs": [],
   "source": [
    "img=cv2.imread(\"faces.jpg\")\n",
    "\n",
    "cv2.imshow(\"test_image\",img)\n",
    "cv2.waitKey(0)==ord(\"q\")\n",
    "cv2.destroyAllWindows()"
   ]
  },
  {
   "cell_type": "code",
   "execution_count": 45,
   "id": "aa0992c0",
   "metadata": {},
   "outputs": [],
   "source": [
    "def display_bounding_boxes(image):\n",
    "    img=image.copy()\n",
    "    gray_image=cv2.cvtColor(img,cv2.COLOR_BGR2GRAY)\n",
    "    box,number_of_detections=face_cascade.detectMultiScale2(gray_image,minNeighbors=8)\n",
    "    for x,y,w,h in box:\n",
    "        cv2.rectangle(img,(x,y),(x+w,y+h),(0,255,0),1)\n",
    "    return img\n",
    "    "
   ]
  },
  {
   "cell_type": "code",
   "execution_count": 46,
   "id": "07e892d0",
   "metadata": {},
   "outputs": [],
   "source": [
    "image_with_detections=display_bounding_boxes(img)"
   ]
  },
  {
   "cell_type": "code",
   "execution_count": 47,
   "id": "a355dc37",
   "metadata": {},
   "outputs": [],
   "source": [
    "cv2.imshow(\"test_image\",image_with_detections)\n",
    "cv2.waitKey(0)==ord(\"q\")\n",
    "cv2.destroyAllWindows()"
   ]
  }
 ],
 "metadata": {
  "kernelspec": {
   "display_name": "Python 3 (ipykernel)",
   "language": "python",
   "name": "python3"
  },
  "language_info": {
   "codemirror_mode": {
    "name": "ipython",
    "version": 3
   },
   "file_extension": ".py",
   "mimetype": "text/x-python",
   "name": "python",
   "nbconvert_exporter": "python",
   "pygments_lexer": "ipython3",
   "version": "3.9.12"
  }
 },
 "nbformat": 4,
 "nbformat_minor": 5
}
